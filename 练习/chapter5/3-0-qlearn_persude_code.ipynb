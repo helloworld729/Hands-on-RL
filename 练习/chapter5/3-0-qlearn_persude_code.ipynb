{
 "cells": [
  {
   "cell_type": "raw",
   "id": "6d1fb4e6-c80e-4b8e-bb67-0e4a309b2ea7",
   "metadata": {},
   "source": [
    "init Q(s, a) Table\n",
    "\n",
    "for e in range(1, E):\n",
    "    init s\n",
    "    a = e-greedy(s)\n",
    "    for t in range(1, T):\n",
    "        rt, s' = step(s, a)  # !!!\n",
    "        a' = e-greedy(s')    # !!!\n",
    "        q(s, a) += (rt + gamma*max(q(s')) - q(s, a))\n",
    "        s = s‘"
   ]
  },
  {
   "cell_type": "code",
   "execution_count": null,
   "id": "746c7174-ed7f-4041-affb-d7470f56e2f3",
   "metadata": {},
   "outputs": [],
   "source": []
  }
 ],
 "metadata": {
  "kernelspec": {
   "display_name": "deeprel",
   "language": "python",
   "name": "deeprel"
  },
  "language_info": {
   "codemirror_mode": {
    "name": "ipython",
    "version": 3
   },
   "file_extension": ".py",
   "mimetype": "text/x-python",
   "name": "python",
   "nbconvert_exporter": "python",
   "pygments_lexer": "ipython3",
   "version": "3.8.19"
  }
 },
 "nbformat": 4,
 "nbformat_minor": 5
}
