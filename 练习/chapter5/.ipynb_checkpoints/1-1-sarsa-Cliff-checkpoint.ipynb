{
 "cells": [
  {
   "cell_type": "code",
   "execution_count": 1,
   "id": "2d9d135b-2840-4425-b1bb-f019c4ef34a5",
   "metadata": {},
   "outputs": [],
   "source": [
    "import matplotlib.pyplot as plt\n",
    "import numpy as np\n",
    "from tqdm import tqdm  # tqdm是显示循环进度条的库"
   ]
  },
  {
   "cell_type": "code",
   "execution_count": 2,
   "id": "5741ff2d-967c-4448-bd17-c1de5787d54b",
   "metadata": {},
   "outputs": [],
   "source": [
    "class CliffWalkingEnv:\n",
    "    def __init__(self, nrow, ncol):\n",
    "        self.nrow = nrow\n",
    "        self.ncol  = ncol\n",
    "\n",
    "        # curent agent position\n",
    "        self.x = 0\n",
    "        self.y = self.ncol-1\n",
    "\n",
    "    def step(self, action):\n",
    "        change = [[0, -1], [0, 1], [-1, 0], [1, 0]]\n",
    "        self.x = min(self.ncol - 1, max(0, self.x + change[action][0]))\n",
    "        self.y = min(self.nrow - 1, max(0, self.y + change[action][1]))\n",
    "        next_state = self.y * self.ncol + self.x\n",
    "        \n",
    "        reward = -1  # f(next_state)\n",
    "        \n",
    "        done = False\n",
    "        if self.y == self.nrow - 1 and self.x > 0:  # 下一个位置在悬崖或者目标\n",
    "            done = True\n",
    "            if self.x != self.ncol - 1:\n",
    "                reward = -100\n",
    "        return next_state, reward, done\n",
    "\n",
    "    def reset(self):\n",
    "        self.x = 0\n",
    "        self.y = self.nrow-1\n",
    "        # one-dimension pos\n",
    "        return self.y * self.ncol+self.x"
   ]
  },
  {
   "cell_type": "code",
   "execution_count": 3,
   "id": "2b70760a-bde3-47cb-b040-7fe5b10861f5",
   "metadata": {},
   "outputs": [],
   "source": [
    "class Sarsa:\n",
    "    # the kernel of Sarsa is time-diff\n",
    "    # that is calculate q(sa) plus，so need to maintain a Q(s, a) table\n",
    "    # q(s, a) += alpha(r + gemma*q(s', a')-q(s,a))  # if have many action use greedy\n",
    "    \n",
    "    def __init__(self, ncol, nrow, epsilon, alpha, gamma, n_action=4):\n",
    "        # 这里用np初始化，便于调用argmax等接口\n",
    "        self.Q_table = np.zeros([nrow * ncol, n_action])  \n",
    "        self.n_action = n_action  # 动作个数\n",
    "        self.alpha = alpha  # 学习率\n",
    "        self.gamma = gamma  # 折扣因子\n",
    "        self.epsilon = epsilon  # epsilon-贪婪策略中的参数\n",
    "\n",
    "    # 选取下一步的操作,具体实现为epsilon-贪婪\n",
    "    def take_action(self, state):  \n",
    "        if np.random.random() < self.epsilon:\n",
    "            action = np.random.randint(self.n_action)\n",
    "        else:\n",
    "            action = np.argmax(self.Q_table[state])\n",
    "        return action\n",
    "\n",
    "    def best_action(self, state):  \n",
    "        # 输入 state,返回最大值对应的动作\n",
    "        Q_max = np.max(self.Q_table[state])\n",
    "        a = [0 for _ in range(self.n_action)]\n",
    "        for i in range(self.n_action):  # 若两个动作的价值一样,都会记录下来\n",
    "            if self.Q_table[state, i] == Q_max:\n",
    "                a[i] = 1\n",
    "        return a\n",
    "\n",
    "    # sarsa 核心函数\n",
    "    def update(self, s0, a0, r, s1, a1):\n",
    "        td_error = r + self.gamma * self.Q_table[s1, a1] - self.Q_table[s0, a0]\n",
    "        self.Q_table[s0, a0] += self.alpha * td_error"
   ]
  },
  {
   "cell_type": "code",
   "execution_count": 4,
   "id": "8ad34913-5fb8-4af4-b1bf-a67cb651f2f1",
   "metadata": {},
   "outputs": [
    {
     "name": "stderr",
     "output_type": "stream",
     "text": [
      "Iteration 0: 100%|█████████████████████████████████████████████████████████████████████████████████████| 50/50 [00:00<00:00, 942.26it/s, episode=50, return=-73.600]\n",
      "Iteration 1: 100%|███████████████████████████████████████████████████████████████████████████████████| 50/50 [00:00<00:00, 1761.75it/s, episode=100, return=-44.800]\n",
      "Iteration 2: 100%|███████████████████████████████████████████████████████████████████████████████████| 50/50 [00:00<00:00, 2416.41it/s, episode=150, return=-29.000]\n",
      "Iteration 3: 100%|███████████████████████████████████████████████████████████████████████████████████| 50/50 [00:00<00:00, 2773.61it/s, episode=200, return=-26.800]\n",
      "Iteration 4: 100%|███████████████████████████████████████████████████████████████████████████████████| 50/50 [00:00<00:00, 3033.42it/s, episode=250, return=-18.800]\n",
      "Iteration 5: 100%|████████████████████████████████████████████████████████████████████████████████████| 50/50 [00:00<00:00, 762.03it/s, episode=300, return=-16.400]\n",
      "Iteration 6: 100%|███████████████████████████████████████████████████████████████████████████████████| 50/50 [00:00<00:00, 3786.43it/s, episode=350, return=-13.000]\n",
      "Iteration 7: 100%|███████████████████████████████████████████████████████████████████████████████████| 50/50 [00:00<00:00, 4260.08it/s, episode=400, return=-13.000]\n",
      "Iteration 8: 100%|███████████████████████████████████████████████████████████████████████████████████| 50/50 [00:00<00:00, 3977.76it/s, episode=450, return=-13.000]\n",
      "Iteration 9: 100%|███████████████████████████████████████████████████████████████████████████████████| 50/50 [00:00<00:00, 3858.04it/s, episode=500, return=-13.000]\n"
     ]
    },
    {
     "data": {
      "image/png": "[encoded data removed]",
      "text/plain": [
       "<Figure size 640x480 with 1 Axes>"
      ]
     },
     "metadata": {},
     "output_type": "display_data"
    }
   ],
   "source": [
    "# run\n",
    "\n",
    "ncol = 12\n",
    "nrow = 4\n",
    "env = CliffWalkingEnv(ncol=ncol, nrow=nrow)\n",
    "np.random.seed(0)\n",
    "alpha = 0.1\n",
    "episilon = 0\n",
    "gamma = 0.9\n",
    "agent = Sarsa(ncol, nrow, episilon, alpha, gamma)\n",
    "num_episodes=500\n",
    "\n",
    "return_list = []  # ???\n",
    "\n",
    "for i in range(10):\n",
    "    with tqdm(total=int(num_episodes/10), desc='Iteration %d' %i) as pbar:\n",
    "        # 每个子场景\n",
    "        for i_episode in range(int(num_episodes/10)):\n",
    "            episode_return = 0\n",
    "            # init state and get action\n",
    "            state = env.reset()\n",
    "            action = agent.take_action(state)\n",
    "            done=False\n",
    "\n",
    "            while not done:\n",
    "                next_state, reward, done = env.step(action)\n",
    "                next_action = agent.take_action(next_state)\n",
    "                episode_return += reward\n",
    "                agent.update(state, action, reward, next_state, next_action)\n",
    "                state = next_state\n",
    "                action = next_action\n",
    "            return_list.append(episode_return)\n",
    "            \n",
    "            if(i_episode+1)%10==0:\n",
    "                pbar.set_postfix({\n",
    "                    'episode':\n",
    "                    '%d' % (num_episodes / 10 * i + i_episode + 1),\n",
    "                    'return':\n",
    "                    '%.3f' % np.mean(return_list[-10:])\n",
    "                })\n",
    "            pbar.update(1)\n",
    "            \n",
    "episodes_list = list(range(len(return_list)))\n",
    "plt.plot(episodes_list, return_list)\n",
    "plt.xlabel('Episodes')\n",
    "plt.ylabel('Returns')\n",
    "plt.title('Sarsa on {}'.format('Cliff Walking'))\n",
    "plt.show()"
   ]
  },
  {
   "cell_type": "code",
   "execution_count": 9,
   "id": "fccae721-6366-424d-a8c6-daf09d7d25f7",
   "metadata": {},
   "outputs": [],
   "source": [
    "# 横坐标：episode；纵坐标：整个episode的奖励值"
   ]
  },
  {
   "cell_type": "code",
   "execution_count": null,
   "id": "70f2c667-5a95-4614-b0f3-bcced5795d45",
   "metadata": {},
   "outputs": [],
   "source": []
  },
  {
   "cell_type": "code",
   "execution_count": 10,
   "id": "4d7b11fb-3943-48a9-a5f1-b544d993e4e9",
   "metadata": {},
   "outputs": [
    {
     "name": "stdout",
     "output_type": "stream",
     "text": [
      "Sarsa算法最终收敛得到的策略为：\n",
      "^ooo ovoo ovoo ovoo ooo> ovoo ovoo ooo> ooo> ooo> ovoo ovoo \n",
      "ooo> ooo> ^ooo ooo> ooo> ovoo ooo> ooo> ovoo ^ooo ooo> ovoo \n",
      "ooo> ooo> ooo> ooo> ooo> ooo> ooo> ooo> ooo> ooo> ooo> ovoo \n",
      "^ooo **** **** **** **** **** **** **** **** **** **** EEEE \n"
     ]
    }
   ],
   "source": [
    "def print_agent(agent, env, action_meaning, disaster=[], end=[]):\n",
    "    for i in range(env.nrow):\n",
    "        for j in range(env.ncol):\n",
    "            if (i * env.ncol + j) in disaster:\n",
    "                print('****', end=' ')\n",
    "            elif (i * env.ncol + j) in end:\n",
    "                print('EEEE', end=' ')\n",
    "            else:\n",
    "                a = agent.best_action(i * env.ncol + j)\n",
    "                pi_str = ''\n",
    "                for k in range(len(action_meaning)):\n",
    "                    pi_str += action_meaning[k] if a[k] > 0 else 'o'\n",
    "                print(pi_str, end=' ')\n",
    "        print()\n",
    "\n",
    "\n",
    "action_meaning = ['^', 'v', '<', '>']\n",
    "print('Sarsa算法最终收敛得到的策略为：')\n",
    "print_agent(agent, env, action_meaning, list(range(37, 47)), [47])\n",
    "\n",
    "# 我们可以发现，如果greedy=0，即采取完全的贪心策略，模型最终收敛的有问题，在原点采取向上的非法动作，如果增加随机0.1则可以解决这个问题，也可以用greedy-decay"
   ]
  },
  {
   "cell_type": "code",
   "execution_count": 11,
   "id": "5e39078f-40a6-4392-a2a7-4cc1465b8664",
   "metadata": {},
   "outputs": [
    {
     "data": {
      "text/plain": [
       "array([[ -6.81378844,  -6.8532129 ,  -6.83053835,  -6.82054345],\n",
       "       [ -6.68159437,  -6.64165292,  -6.68113459,  -6.65023356],\n",
       "       [ -6.41731581,  -6.41432158,  -6.42458783,  -6.41860207],\n",
       "       [ -6.20425728,  -6.13958149,  -6.15875475,  -6.14658091],\n",
       "       [ -5.89255019,  -5.83355981,  -5.87485758,  -5.82969773],\n",
       "       [ -5.48045074,  -5.47352684,  -5.50440775,  -5.48065616],\n",
       "       [ -5.11024573,  -5.0800644 ,  -5.1475993 ,  -5.08848753],\n",
       "       [ -4.72777835,  -4.68776485,  -4.69650121,  -4.65351023],\n",
       "       [ -4.19352826,  -4.19645203,  -4.26263541,  -4.183157  ],\n",
       "       [ -3.70747004,  -3.70072305,  -3.71474751,  -3.6761151 ],\n",
       "       [ -3.20121961,  -3.14029634,  -3.24206356,  -3.15068484],\n",
       "       [ -2.6556483 ,  -2.60949244,  -2.64890742,  -2.67993145],\n",
       "       [ -6.96367092,  -6.97295617,  -6.99020088,  -6.95875433],\n",
       "       [ -6.73602226,  -6.76721763,  -6.75281208,  -6.73225905],\n",
       "       [ -6.45994863,  -6.46989219,  -6.50490622,  -6.46066753],\n",
       "       [ -6.15010533,  -6.16979024,  -6.20087021,  -6.14274557],\n",
       "       [ -5.82502913,  -5.82249231,  -5.81037114,  -5.79315724],\n",
       "       [ -5.41749762,  -5.39851033,  -5.44425843,  -5.40504565],\n",
       "       [ -5.00570142,  -4.98142641,  -5.0278347 ,  -4.96765232],\n",
       "       [ -4.49870714,  -4.50062305,  -4.56036566,  -4.48552135],\n",
       "       [ -4.02232696,  -3.94258912,  -3.96540924,  -3.94826011],\n",
       "       [ -3.34541692,  -3.34911049,  -3.36639103,  -3.35046995],\n",
       "       [ -2.78056854,  -2.66899703,  -2.71416709,  -2.66897469],\n",
       "       [ -1.92646745,  -1.89857463,  -1.92287344,  -1.91794692],\n",
       "       [ -7.17907724,  -7.18117093,  -7.20861947,  -7.17570459],\n",
       "       [ -6.86785531, -10.        ,  -6.89836567,  -6.86189403],\n",
       "       [ -6.52018836, -10.        ,  -6.5184125 ,  -6.5132156 ],\n",
       "       [ -6.14199946, -10.        ,  -6.13879763,  -6.12579511],\n",
       "       [ -5.74302788, -10.        ,  -5.73374984,  -5.6953279 ],\n",
       "       [ -5.23802533, -10.        ,  -5.23073095,  -5.217031  ],\n",
       "       [ -4.70458791, -10.        ,  -4.71317684,  -4.68559   ],\n",
       "       [ -4.17174109, -10.        ,  -4.1200645 ,  -4.0951    ],\n",
       "       [ -3.49316406, -10.        ,  -3.4839661 ,  -3.439     ],\n",
       "       [ -2.72817057, -10.        ,  -2.78636624,  -2.71      ],\n",
       "       [ -1.99042632, -10.        ,  -2.04741149,  -1.9       ],\n",
       "       [ -1.00388048,  -1.        ,  -1.05874504,  -1.10194337],\n",
       "       [ -7.45813398,  -7.46698573,  -7.47518575, -10.        ],\n",
       "       [  0.        ,   0.        ,   0.        ,   0.        ],\n",
       "       [  0.        ,   0.        ,   0.        ,   0.        ],\n",
       "       [  0.        ,   0.        ,   0.        ,   0.        ],\n",
       "       [  0.        ,   0.        ,   0.        ,   0.        ],\n",
       "       [  0.        ,   0.        ,   0.        ,   0.        ],\n",
       "       [  0.        ,   0.        ,   0.        ,   0.        ],\n",
       "       [  0.        ,   0.        ,   0.        ,   0.        ],\n",
       "       [  0.        ,   0.        ,   0.        ,   0.        ],\n",
       "       [  0.        ,   0.        ,   0.        ,   0.        ],\n",
       "       [  0.        ,   0.        ,   0.        ,   0.        ],\n",
       "       [  0.        ,   0.        ,   0.        ,   0.        ]])"
      ]
     },
     "execution_count": 11,
     "metadata": {},
     "output_type": "execute_result"
    }
   ],
   "source": [
    "agent.Q_table"
   ]
  },
  {
   "cell_type": "code",
   "execution_count": null,
   "id": "70b28d50-97d3-434e-ac2c-ba34313ef14e",
   "metadata": {},
   "outputs": [],
   "source": []
  },
  {
   "cell_type": "code",
   "execution_count": null,
   "id": "d712b4f8-390d-45ef-93cc-3d410d2ad09e",
   "metadata": {},
   "outputs": [],
   "source": []
  },
  {
   "cell_type": "code",
   "execution_count": null,
   "id": "469722ec-05a0-40a5-8b8a-4d863d7fa1a7",
   "metadata": {},
   "outputs": [],
   "source": []
  }
 ],
 "metadata": {
  "kernelspec": {
   "display_name": "deeprel",
   "language": "python",
   "name": "deeprel"
  },
  "language_info": {
   "codemirror_mode": {
    "name": "ipython",
    "version": 3
   },
   "file_extension": ".py",
   "mimetype": "text/x-python",
   "name": "python",
   "nbconvert_exporter": "python",
   "pygments_lexer": "ipython3",
   "version": "3.8.19"
  }
 },
 "nbformat": 4,
 "nbformat_minor": 5
}
