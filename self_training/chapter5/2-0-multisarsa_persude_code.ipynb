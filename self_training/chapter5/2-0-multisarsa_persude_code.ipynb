{
 "cells": [
  {
   "cell_type": "raw",
   "id": "6d1fb4e6-c80e-4b8e-bb67-0e4a309b2ea7",
   "metadata": {},
   "source": [
    "compare to sarsa, multi step sarsa take multi step in same evaluation\n",
    "to reduce bias wilt lose varance"
   ]
  },
  {
   "cell_type": "raw",
   "id": "1e2f032e-16a2-474a-9aeb-51182e683355",
   "metadata": {},
   "source": [
    "init Q(s, a) Table\n",
    "\n",
    "for e in range(1, E):\n",
    "    init s\n",
    "    a = e-greedy(s)\n",
    "\n",
    "    while not done:\n",
    "        r = 0 \n",
    "        for i in range(n_step)\n",
    "            rt, s' = step(s, a)  # !!!\n",
    "            a' = e-greedy(s')    # !!!\n",
    "            r += gamma^(i-1)*rt\n",
    "        q(s, a) += (r + gamma^n *q(s', a') - q(s, a))\n",
    "        s = s'\n",
    "        a = a'"
   ]
  }
 ],
 "metadata": {
  "kernelspec": {
   "display_name": "deeprel",
   "language": "python",
   "name": "deeprel"
  },
  "language_info": {
   "codemirror_mode": {
    "name": "ipython",
    "version": 3
   },
   "file_extension": ".py",
   "mimetype": "text/x-python",
   "name": "python",
   "nbconvert_exporter": "python",
   "pygments_lexer": "ipython3",
   "version": "3.8.19"
  }
 },
 "nbformat": 4,
 "nbformat_minor": 5
}
